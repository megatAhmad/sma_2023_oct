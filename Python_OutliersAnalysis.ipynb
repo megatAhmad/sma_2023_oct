{
  "nbformat": 4,
  "nbformat_minor": 0,
  "metadata": {
    "colab": {
      "provenance": [],
      "authorship_tag": "ABX9TyMAs2A28akac3Ib0c3vgZ1C",
      "include_colab_link": true
    },
    "kernelspec": {
      "name": "python3",
      "display_name": "Python 3"
    },
    "language_info": {
      "name": "python"
    }
  },
  "cells": [
    {
      "cell_type": "markdown",
      "metadata": {
        "id": "view-in-github",
        "colab_type": "text"
      },
      "source": [
        "<a href=\"https://colab.research.google.com/github/megatAhmad/sma_2023_oct/blob/main/Python_OutliersAnalysis.ipynb\" target=\"_parent\"><img src=\"https://colab.research.google.com/assets/colab-badge.svg\" alt=\"Open In Colab\"/></a>"
      ]
    },
    {
      "cell_type": "markdown",
      "source": [
        "# Objective of the Notebook\n",
        "1.   What is outliers - how one data is classified as outliers - global, local, context\n",
        "2.   How do we identify the outliers in our data\n",
        "3.   When should we treat them and when should we not ?\n",
        "4.   How to remove outliers in Python\n",
        "\n"
      ],
      "metadata": {
        "id": "CdJ_Pt8x36AS"
      }
    },
    {
      "cell_type": "markdown",
      "source": [
        "### What are Outliers ?\n",
        "\n",
        "\n",
        "1.   Outliers are data points that does not behave like the others - the norm / the population\n",
        "2.   Outliers are normally considered as an error, but on some cases they are based on significant event\n",
        "3.   How do we classify the norm ?\n",
        "     1.   Based on single angle/ variable\n",
        "     2.   From multi angle/variable\n",
        "     3.   From one angle, but throughout time\n",
        "4.    \n"
      ],
      "metadata": {
        "id": "T_o1_og65AZm"
      }
    },
    {
      "cell_type": "markdown",
      "source": [
        "# Method to identify outliers\n",
        "1.   Standard Deviation\n",
        " *   Method:\n",
        "      *   68% data within 1 std dev\n",
        "      *   95% data within 2 std dev\n",
        "      *   99.7% data within 3 std dev\n",
        "      *   Data beyond 3 std dev is an outlier\n",
        "      *   Data is analyzed in one dimension\n",
        " *   Assumption :\n",
        "      *   Data is normal distributed\n",
        "\n",
        "2.   Boxplot & Interquartiles Range (IQR)\n",
        " *   Method:\n",
        "      *   Data are binned into quartiles\n",
        "      *   IQR = Q3 - Q1\n",
        "      *   Upper Whiskers = Q3 + 1.5*IQR\n",
        "      *   Lower Whiskers = Q1 + 1.5*IQR\n",
        "      *   Data beyond upper/lower whiskers is an outlier\n",
        "      *   Data is analyzed in one dimension\n",
        " *   Assumption :\n",
        "      *   TBC\n",
        "\n",
        "2.   DBScan\n",
        " *   Method:\n",
        "      *   For single/multi dimension analysis\n",
        "      *   Cluster (Density based) data into groups\n",
        "      *   \n",
        "      *   X\n",
        "      *   X\n",
        " *   Assumption :\n",
        "      *   TBC\n",
        "    \n",
        "\n",
        "\n"
      ],
      "metadata": {
        "id": "TXcCmZfOgulF"
      }
    }
  ]
}